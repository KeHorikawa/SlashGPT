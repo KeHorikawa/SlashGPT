{
 "cells": [
  {
   "cell_type": "markdown",
   "id": "f50e903c",
   "metadata": {},
   "source": [
    "# gpt-3.5-turbo-16k-0613"
   ]
  },
  {
   "cell_type": "markdown",
   "id": "160b3848",
   "metadata": {},
   "source": [
    "**User**: Get marketcaps of apple, microsoft, amazon, tesla, nvidia, google and meta using yfinance"
   ]
  },
  {
   "cell_type": "code",
   "execution_count": 1,
   "id": "eb0bda14",
   "metadata": {},
   "outputs": [
    {
     "name": "stdout",
     "output_type": "stream",
     "text": [
      "Out[1]: \n",
      "{'AAPL': 3047514439680,\n",
      " 'MSFT': 2591639994368,\n",
      " 'AMZN': 1323642912768,\n",
      " 'TSLA': 847793618944,\n",
      " 'NVDA': 1133248380928,\n",
      " 'GOOGL': 1547399200768,\n",
      " 'META': 753775804416}\n"
     ]
    },
    {
     "data": {
      "text/plain": [
       "{'AAPL': 3047514439680, 'MSFT': 2591639994368, 'AMZN': 1323642912768, 'TSLA': 847793618944, 'NVDA': 1133248380928, 'GOOGL': 1547399200768, 'META': 753775804416}"
      ]
     },
     "execution_count": 1,
     "metadata": {},
     "output_type": "execute_result"
    }
   ],
   "source": [
    "import yfinance as yf\n",
    "\n",
    "tickers = ['AAPL', 'MSFT', 'AMZN', 'TSLA', 'NVDA', 'GOOGL', 'META']\n",
    "\n",
    "marketcaps = {}\n",
    "\n",
    "for ticker in tickers:\n",
    "    ticker_info = yf.Ticker(ticker)\n",
    "    marketcap = ticker_info.info['marketCap']\n",
    "    marketcaps[ticker] = marketcap\n",
    "\n",
    "marketcaps\n"
   ]
  },
  {
   "cell_type": "markdown",
   "id": "4e0c16f6",
   "metadata": {},
   "source": [
    "**User**: Get last closing price of those companies."
   ]
  },
  {
   "cell_type": "code",
   "execution_count": 1,
   "id": "b183c852",
   "metadata": {},
   "outputs": [
    {
     "name": "stdout",
     "output_type": "stream",
     "text": [
      "Out[1]: \n",
      "{'AAPL': 193.69439697265625,\n",
      " 'MSFT': 348.32000732421875,\n",
      " 'AMZN': 129.0,\n",
      " 'TSLA': 267.4599914550781,\n",
      " 'NVDA': 458.54998779296875,\n",
      " 'GOOGL': 121.66999816894531,\n",
      " 'META': 294.09759521484375}\n"
     ]
    },
    {
     "data": {
      "text/plain": [
       "{'AAPL': 193.69439697265625, 'MSFT': 348.32000732421875, 'AMZN': 129.0, 'TSLA': 267.4599914550781, 'NVDA': 458.54998779296875, 'GOOGL': 121.66999816894531, 'META': 294.09759521484375}"
      ]
     },
     "execution_count": 1,
     "metadata": {},
     "output_type": "execute_result"
    }
   ],
   "source": [
    "import yfinance as yf\n",
    "\n",
    "tickers = ['AAPL', 'MSFT', 'AMZN', 'TSLA', 'NVDA', 'GOOGL', 'META']\n",
    "\n",
    "closing_prices = {}\n",
    "\n",
    "for ticker in tickers:\n",
    "    ticker_info = yf.Ticker(ticker)\n",
    "    history = ticker_info.history(period='1d')\n",
    "    last_close = history['Close'].iloc[-1]\n",
    "    closing_prices[ticker] = last_close\n",
    "\n",
    "closing_prices\n"
   ]
  },
  {
   "cell_type": "markdown",
   "id": "914ae283",
   "metadata": {},
   "source": [
    "**User**: Estimate shares outstanding"
   ]
  },
  {
   "cell_type": "code",
   "execution_count": 1,
   "id": "b4f55ed9",
   "metadata": {},
   "outputs": [
    {
     "name": "stdout",
     "output_type": "stream",
     "text": [
      "Out[1]: \n",
      "{'AAPL': 15733622073.281841,\n",
      " 'MSFT': 7440399459.901489,\n",
      " 'AMZN': 10260797773.39535,\n",
      " 'TSLA': 3169796029.4236875,\n",
      " 'NVDA': 2471373702.096033,\n",
      " 'GOOGL': 12718001348.363245,\n",
      " 'META': 2563012471.643479}\n"
     ]
    },
    {
     "data": {
      "text/plain": [
       "{'AAPL': 15733622073.281841, 'MSFT': 7440399459.901489, 'AMZN': 10260797773.39535, 'TSLA': 3169796029.4236875, 'NVDA': 2471373702.096033, 'GOOGL': 12718001348.363245, 'META': 2563012471.643479}"
      ]
     },
     "execution_count": 1,
     "metadata": {},
     "output_type": "execute_result"
    }
   ],
   "source": [
    "shares_outstanding = {}\n",
    "\n",
    "for ticker in tickers:\n",
    "    marketcap = marketcaps[ticker]\n",
    "    last_close = closing_prices[ticker]\n",
    "    shares_outstanding[ticker] = marketcap / last_close\n",
    "\n",
    "shares_outstanding\n"
   ]
  },
  {
   "cell_type": "code",
   "execution_count": 1,
   "id": "e3bc1170",
   "metadata": {},
   "outputs": [],
   "source": [
    "import matplotlib.pyplot as plt\n",
    "import pandas as pd\n",
    "\n",
    "# Get the historical data for 4 years\n",
    "history = ticker_info.history(period='4y')\n",
    "\n",
    "# Multiply shares outstanding by closing price for each date\n",
    "marketcap_history = pd.DataFrame(index=history.index)\n",
    "\n",
    "for ticker in tickers:\n",
    "    shares_outstanding_ticker = shares_outstanding[ticker]\n",
    "    marketcap_history[ticker] = history['Close'] * shares_outstanding_ticker\n",
    "\n",
    "# Plot the market capitalization history\n",
    "plt.figure(figsize=(12, 6))\n",
    "for ticker in tickers:\n",
    "    plt.plot(marketcap_history.index, marketcap_history[ticker], label=ticker)\n",
    "\n",
    "plt.title('Market Capitalization History')\n",
    "plt.xlabel('Date')\n",
    "plt.ylabel('Market Capitalization')\n",
    "plt.legend()\n",
    "plt.show()\n"
   ]
  },
  {
   "cell_type": "markdown",
   "id": "d27a9728",
   "metadata": {},
   "source": [
    "**User**: Draw 4-year history of marketcap of those companies."
   ]
  },
  {
   "cell_type": "code",
   "execution_count": 1,
   "id": "c1f60aa0",
   "metadata": {},
   "outputs": [
    {
     "name": "stdout",
     "output_type": "stream",
     "text": [
      "\r",
      "[                       0%                       ]\r",
      "[**************        29%                       ]  2 of 7 completed\r",
      "[********************* 43%                       ]  3 of 7 completed\r",
      "[**********************57%**                     ]  4 of 7 completed\r",
      "[**********************71%*********              ]  5 of 7 completed\r",
      "[**********************86%****************       ]  6 of 7 completed\r",
      "[*********************100%***********************]  7 of 7 completed\n"
     ]
    }
   ],
   "source": [
    "import yfinance as yf\n",
    "import matplotlib.pyplot as plt\n",
    "import pandas as pd\n",
    "\n",
    "tickers = ['AAPL', 'MSFT', 'AMZN', 'TSLA', 'NVDA', 'GOOGL', 'META']\n",
    "\n",
    "# Get the historical data for 4 years\n",
    "history = yf.download(tickers, period='4y')['Close']\n",
    "\n",
    "# Multiply shares outstanding by closing price for each date\n",
    "marketcap_history = pd.DataFrame(index=history.index)\n",
    "\n",
    "for ticker in tickers:\n",
    "    shares_outstanding_ticker = shares_outstanding[ticker]\n",
    "    marketcap_history[ticker] = history[ticker] * shares_outstanding_ticker\n",
    "\n",
    "# Plot the market capitalization history\n",
    "plt.figure(figsize=(12, 6))\n",
    "for ticker in tickers:\n",
    "    plt.plot(marketcap_history.index, marketcap_history[ticker], label=ticker)\n",
    "\n",
    "plt.title('Market Capitalization History')\n",
    "plt.xlabel('Date')\n",
    "plt.ylabel('Market Capitalization')\n",
    "plt.legend()\n",
    "plt.show()\n"
   ]
  }
 ],
 "metadata": {
  "kernelspec": {
   "display_name": "Python 3 (ipykernel)",
   "language": "python",
   "name": "python3"
  },
  "language_info": {
   "codemirror_mode": {
    "name": "ipython",
    "version": 3
   },
   "file_extension": ".py",
   "mimetype": "text/x-python",
   "name": "python",
   "nbconvert_exporter": "python",
   "pygments_lexer": "ipython3",
   "version": "3.11.3"
  }
 },
 "nbformat": 4,
 "nbformat_minor": 5
}
